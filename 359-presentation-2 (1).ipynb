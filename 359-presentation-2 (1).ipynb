{
 "cells": [
  {
   "cell_type": "code",
   "execution_count": 78,
   "metadata": {},
   "outputs": [
    {
     "name": "stdout",
     "output_type": "stream",
     "text": [
      "{'_id': ObjectId('5e44a28cc84046ff9d38c4bc'), 'name': 'Interpol Lundquist', 'age': '50', 'sex': 'male', 'accounts': 'interpol_lundquist', 'join_date': '2010-08-12 01:42:28'}\n",
      "{'_id': ObjectId('5e44a28cc84046ff9d38c4bd'), 'name': 'Hebrides Adair', 'age': '47', 'sex': 'male', 'accounts': 'hebrides_adair', 'join_date': '2013-07-16 20:47:08'}\n",
      "{'_id': ObjectId('5e44a28cc84046ff9d38c4be'), 'name': 'Cantabrigian Gilchrist', 'age': '21', 'sex': 'male', 'accounts': 'cantabrigian_gilchrist', 'join_date': '2010-02-18 02:46:07'}\n",
      "{'_id': ObjectId('5e44a28cc84046ff9d38c4bf'), 'name': 'Missy Chesapeake', 'age': '42', 'sex': 'male', 'accounts': 'missy_chesapeake', 'join_date': '2015-09-17 08:17:45'}\n"
     ]
    }
   ],
   "source": [
    "import pymongo\n",
    "import json\n",
    "from bson import ObjectId\n",
    "\n",
    "myclient = pymongo.MongoClient(\"mongodb://localhost:27017/\")\n",
    "\n",
    "mydb = myclient[\"mydatabase2\"]\n",
    "\n",
    "mycol = mydb[\"user\"]\n",
    "mycol2 = mydb[\"userdata2\"]\n",
    "\n",
    "with open('info.json', 'r') as data_file:\n",
    "    data_json = json.load(data_file)\n",
    " \n",
    "# for d in data_json:\n",
    "#     print(d[\"name\"])\n",
    "\n",
    "mycol.insert_many(data_json)\n",
    "for x in mycol.find():\n",
    "    print(x)"
   ]
  },
  {
   "cell_type": "code",
   "execution_count": 79,
   "metadata": {},
   "outputs": [
    {
     "name": "stdout",
     "output_type": "stream",
     "text": [
      "{'_id': ObjectId('5e44a28cc84046ff9d38c4bc'), 'name': 'Interpol Lundquist', 'age': '50', 'sex': 'male', 'accounts': 'interpol_lundquist', 'join_date': '2010-08-12 01:42:28', 'dataid': []}\n",
      "{'_id': ObjectId('5e44a28cc84046ff9d38c4bd'), 'name': 'Hebrides Adair', 'age': '47', 'sex': 'male', 'accounts': 'hebrides_adair', 'join_date': '2013-07-16 20:47:08', 'dataid': []}\n",
      "{'_id': ObjectId('5e44a28cc84046ff9d38c4be'), 'name': 'Cantabrigian Gilchrist', 'age': '21', 'sex': 'male', 'accounts': 'cantabrigian_gilchrist', 'join_date': '2010-02-18 02:46:07', 'dataid': []}\n",
      "{'_id': ObjectId('5e44a28cc84046ff9d38c4bf'), 'name': 'Missy Chesapeake', 'age': '42', 'sex': 'male', 'accounts': 'missy_chesapeake', 'join_date': '2015-09-17 08:17:45', 'dataid': []}\n"
     ]
    }
   ],
   "source": [
    "mycol.update_many({},{\"$set\": {'dataid': []}})\n",
    "for x in mycol.find():\n",
    "    print(x)"
   ]
  },
  {
   "cell_type": "code",
   "execution_count": 45,
   "metadata": {},
   "outputs": [],
   "source": [
    "def register_user(myjson):\n",
    "    #myjson is the path to json file\n",
    "    with open(myjson, 'r') as data_file:\n",
    "        data_json = json.load(data_file)\n",
    "    mycol.insert_many(data_json)\n",
    "    mycol.update_many({},{\"$set\": {'dataid': []}})\n",
    "    "
   ]
  },
  {
   "cell_type": "code",
   "execution_count": 82,
   "metadata": {},
   "outputs": [
    {
     "name": "stdout",
     "output_type": "stream",
     "text": [
      "{'_id': ObjectId('5e44a28cc84046ff9d38c4bf'), 'name': 'Missy Chesapeake', 'age': '42', 'sex': 'male', 'accounts': 'missy_chesapeake', 'join_date': '2015-09-17 08:17:45', 'dataid': []}\n"
     ]
    }
   ],
   "source": [
    "def get_user(key, value):\n",
    "    #key is the field you are looking for\n",
    "    #value corresponds to the actual value for the field\n",
    "    myquery = {key: value}\n",
    "    return mycol.find(myquery)\n",
    "\n",
    "key = 'name'\n",
    "value = 'Missy Chesapeake'\n",
    "for x in mycol.find({key: value}):\n",
    "    print(x)"
   ]
  },
  {
   "cell_type": "code",
   "execution_count": 81,
   "metadata": {},
   "outputs": [
    {
     "name": "stdout",
     "output_type": "stream",
     "text": [
      "{'_id': ObjectId('5e44a28cc84046ff9d38c4bc'), 'name': 'Interpol Lundquist', 'age': '50', 'sex': 'male', 'accounts': 'interpol_lundquist', 'join_date': '2010-08-12 01:42:28', 'dataid': [3]}\n",
      "{'_id': ObjectId('5e44a28cc84046ff9d38c4bd'), 'name': 'Hebrides Adair', 'age': '47', 'sex': 'male', 'accounts': 'hebrides_adair', 'join_date': '2013-07-16 20:47:08', 'dataid': []}\n",
      "{'_id': ObjectId('5e44a28cc84046ff9d38c4be'), 'name': 'Cantabrigian Gilchrist', 'age': '21', 'sex': 'male', 'accounts': 'cantabrigian_gilchrist', 'join_date': '2010-02-18 02:46:07', 'dataid': []}\n",
      "{'_id': ObjectId('5e44a28cc84046ff9d38c4bf'), 'name': 'Missy Chesapeake', 'age': '42', 'sex': 'male', 'accounts': 'missy_chesapeake', 'join_date': '2015-09-17 08:17:45', 'dataid': []}\n"
     ]
    }
   ],
   "source": [
    "def save_data(myjson):\n",
    "    #userid, historical, fitted, predicted\n",
    "    #userid corresponds to the objectid of the user \n",
    "    with open(myjson, 'r') as data_file:\n",
    "        data_json = json.load(data_file)\n",
    "    mycol2.insert_many(data_json)\n",
    "    for x in mycol2.find():\n",
    "        mycol.update_one({\"_id\": x[\"userid\"]}, {\"$push\": {\"dataid\": x[\"_id\"]}})\n",
    "        \n",
    "mycol.update_one({'_id': ObjectId('5e44a28cc84046ff9d38c4bc')}, {\"$push\": {\"dataid\": 3}})\n",
    "for x in mycol.find():\n",
    "    print(x)"
   ]
  },
  {
   "cell_type": "code",
   "execution_count": null,
   "metadata": {},
   "outputs": [],
   "source": [
    "def get_data(dataid):\n",
    "    myquery = {\"_id\" : dataid}\n",
    "    return mycol2.find(myquery)"
   ]
  },
  {
   "cell_type": "code",
   "execution_count": null,
   "metadata": {},
   "outputs": [],
   "source": []
  },
  {
   "cell_type": "code",
   "execution_count": null,
   "metadata": {},
   "outputs": [],
   "source": []
  },
  {
   "cell_type": "code",
   "execution_count": null,
   "metadata": {},
   "outputs": [],
   "source": []
  }
 ],
 "metadata": {
  "kernelspec": {
   "display_name": "Python 3",
   "language": "python",
   "name": "python3"
  },
  "language_info": {
   "codemirror_mode": {
    "name": "ipython",
    "version": 3
   },
   "file_extension": ".py",
   "mimetype": "text/x-python",
   "name": "python",
   "nbconvert_exporter": "python",
   "pygments_lexer": "ipython3",
   "version": "3.7.1"
  }
 },
 "nbformat": 4,
 "nbformat_minor": 2
}
